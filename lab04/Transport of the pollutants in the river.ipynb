{
 "cells": [
  {
   "cell_type": "code",
   "execution_count": 5,
   "metadata": {},
   "outputs": [],
   "source": [
    "import numpy as np\n",
    "from scipy.optimize import fsolve\n",
    "\n",
    "% matplotlib inline\n",
    "import time\n",
    "import pylab as pl\n",
    "from IPython import display\n",
    "\n",
    "# PSl – Power of solar radiation arriving to the Earth (short wave radiation)\n",
    "# Pz – Power of radiation emitted from Earth (long wave radiation)\n",
    "# A – mean albedo of the Earth surface\n",
    "# S – solar constant\n",
    "# PowZ – area of the Earth\n",
    "# sbc -Stefan-Boltzmann constant\n",
    "\n",
    "# PSl = S * (PowZ/4) *(1 - A)\n",
    "# Pz = sbc * (T**4) * PowZ\n",
    "# Pz = PSl\n",
    "\n",
    "# sbc * (T**4) * PowZ = S * (PowZ/4) *(1 - A)\n",
    "# (T**4) = (S * (PowZ/4) * (1 - A))/(sbc*PowZ) = (S * (1 - A))/(4 * sbc)\n"
   ]
  },
  {
   "cell_type": "code",
   "execution_count": 6,
   "metadata": {},
   "outputs": [],
   "source": [
    "# Diagram methods\n",
    "\n",
    "\n",
    "def doPlot(x, y, col):\n",
    "    pl.plot(x, y, col, markersize=3)\n",
    "    display.clear_output(wait=True)\n",
    "    display.display(pl.gcf())\n",
    "    time.sleep(0.1)\n",
    "\n",
    "\n",
    "def setRanges():\n",
    "    pl.xlim(S_range_left * 0.95, S_range_right * 1.05)\n",
    "    pl.ylim(-80, 40)\n",
    "    pl.xlabel('Fraction of solar constant value')\n",
    "    pl.ylabel('Mean temperature in Celsius degrees')\n",
    "    pl.title('Glacial-interglacial transition')\n",
    "\n",
    "\n",
    "def changeColor(i, val):\n",
    "    if i >= val:\n",
    "        return 'b+'\n",
    "    else:\n",
    "        return 'ro'\n",
    "\n",
    "\n",
    "# Computation methods\n",
    "\n",
    "def k_to_c(k):\n",
    "    return k - 273.15\n",
    "\n",
    "# No atmosphere methods\n",
    "\n",
    "\n",
    "def withoutAtmosphere(S, A, sbc):\n",
    "    return pow((S * (1 - A)) / (4 * sbc), 0.25)\n",
    "\n",
    "# Taking atmosphere methods\n",
    "\n",
    "\n",
    "def withAtmosphereEquations(p):\n",
    "    Ts, Ta = p\n",
    "    e1 = (-sw_ta) * (1 - sw_as) * S / 4 + c * (Ts - Ta) + sbc * (Ts ** 4) * (1 - lw_aa) - sbc * (Ta ** 4)\n",
    "    e2 = -(1 - sw_aa - sw_ta + sw_as * sw_ta) * S / 4 - c * (Ts - Ta) - sbc * (Ts ** 4) * (\n",
    "            1 - lw_ta - lw_aa) + 2 * sbc * (Ta ** 4)\n",
    "    return e1, e2\n",
    "\n",
    "\n",
    "def withAtmosphere():\n",
    "    return fsolve(withAtmosphereEquations, (0.0, 0.0))\n",
    "\n",
    "\n",
    "def changeAs(t):\n",
    "    if (t < Tc):\n",
    "        return sw_as_init_r\n",
    "    else:\n",
    "        return sw_as_init\n"
   ]
  },
  {
   "cell_type": "code",
   "execution_count": 9,
   "metadata": {},
   "outputs": [
    {
     "data": {
      "image/png": "[encoded data removed]",
      "text/plain": [
       "<Figure size 432x288 with 1 Axes>"
      ]
     },
     "metadata": {},
     "output_type": "display_data"
    },
    {
     "name": "stdout",
     "output_type": "stream",
     "text": [
      "S: 1898.7400000000014 TaC: -3.655760625368373 TsC: 41.16394457717615 Ta: 269.4942393746316 Ts: 314.31394457717613\n",
      "sp1_val: 1024.5000000000005 W/m^2 sp1_frac: 0.7500000000000003 temp1: -10.002138452479073\n",
      "sp2_val: 1188.4200000000005 W/m^2 sp2_frac: 0.8700000000000004 temp2: -10.051220857400494\n"
     ]
    },
    {
     "data": {
      "image/png": "[encoded data removed]",
      "text/plain": [
       "<Figure size 432x288 with 1 Axes>"
      ]
     },
     "metadata": {
      "needs_background": "light"
     },
     "output_type": "display_data"
    }
   ],
   "source": [
    "# Variable initiation\n",
    "\n",
    "# PSl = 0.0\n",
    "# Pz = 0.0\n",
    "A = 0.3\n",
    "S_init = 1366.0  # W/m 2\n",
    "S = S_init  # W/m 2\n",
    "# PowZ = 0.0\n",
    "sbc = 5.67 * pow(10.0, -8)  # W/m^2*K^4\n",
    "\n",
    "# Short-wave radiation\n",
    "sw_as_init = 0.19\n",
    "sw_as_init_r = 0.65\n",
    "sw_as = sw_as_init\n",
    "sw_ta = 0.53\n",
    "sw_aa = 0.30\n",
    "\n",
    "# Long-wave radiation\n",
    "lw_ta = 0.06\n",
    "lw_aa = 0.31\n",
    "\n",
    "c = 2.7  # Wm^-2 K^-1\n",
    "\n",
    "# S in range 0.8 to 1.2 S\n",
    "S_range_left = 0.4\n",
    "S_range_right = 1.4\n",
    "S_range_step = 0.01\n",
    "\n",
    "Tc = -10  # C degrees \n",
    "\n",
    "# No atmosphere \n",
    "T = withoutAtmosphere(S, A, sbc)\n",
    "print(\"No atmosphere in Celsius degrees: \" + str(k_to_c(T)) + \".\")\n",
    "\n",
    "# Taking atmosphere \n",
    "Ts, Ta = withAtmosphere()\n",
    "print(\"Mean temperature of the atmosphere in Celsius degrees  \" + str(k_to_c(Ta)) + \".\")\n",
    "print(\"Mean surface temperature in Celsius degrees  \" + str(k_to_c(Ts)) + \".\")\n",
    "\n",
    "setRanges()\n",
    "\n",
    "arr = list(np.arange(S_range_left, S_range_right, S_range_step))\n",
    "iterator = list(arr)\n",
    "iterator.reverse()\n",
    "iterator.extend(arr)\n",
    "\n",
    "sp1_val = None\n",
    "sp2_val = None\n",
    "sp1_frac = None\n",
    "sp2_frac = None\n",
    "sp1_temp = None\n",
    "sp2_temp = None\n",
    "\n",
    "# Main loop\n",
    "for i in range(len(iterator)):\n",
    "    S = iterator[i] * S_init\n",
    "    Ts, Ta = withAtmosphere()\n",
    "    TaC = k_to_c(Ta)\n",
    "    TsC = k_to_c(Ts)\n",
    "    sw_as = changeAs(TsC)\n",
    "\n",
    "    if (sw_as != sw_as_init) and (sp1_val is None):\n",
    "        sp1_val = S\n",
    "        sp1_frac = iterator[i]\n",
    "        sp1_temp = TsC\n",
    "\n",
    "    if sw_as != sw_as_init:\n",
    "        sp2_val = S\n",
    "        sp2_frac = iterator[i]\n",
    "        sp2_temp = TsC\n",
    "\n",
    "    col = changeColor(i, len(iterator) / 2)\n",
    "    doPlot(iterator[i], TsC, col)\n",
    "    print(\"S: \" + str(S) + \" TaC: \" + str(TaC) + \" TsC: \" + str(TsC) + \" Ta: \" + str(Ta) + \" Ts: \" + str(Ts))\n",
    "\n",
    "print(\"sp1_val: \" + str(sp1_val) + \" W/m^2 sp1_frac: \" + str(sp1_frac) + \" temp1: \" + str(sp1_temp))\n",
    "print(\"sp2_val: \" + str(sp2_val) + \" W/m^2 sp2_frac: \" + str(sp2_frac) + \" temp2: \" + str(sp2_temp))\n"
   ]
  },
  {
   "cell_type": "code",
   "execution_count": null,
   "metadata": {},
   "outputs": [],
   "source": []
  },
  {
   "cell_type": "code",
   "execution_count": null,
   "metadata": {},
   "outputs": [],
   "source": []
  },
  {
   "cell_type": "code",
   "execution_count": null,
   "metadata": {},
   "outputs": [],
   "source": []
  },
  {
   "cell_type": "code",
   "execution_count": null,
   "metadata": {},
   "outputs": [],
   "source": []
  },
  {
   "cell_type": "code",
   "execution_count": null,
   "metadata": {},
   "outputs": [],
   "source": []
  },
  {
   "cell_type": "code",
   "execution_count": null,
   "metadata": {},
   "outputs": [],
   "source": []
  },
  {
   "cell_type": "code",
   "execution_count": null,
   "metadata": {},
   "outputs": [],
   "source": []
  },
  {
   "cell_type": "code",
   "execution_count": null,
   "metadata": {},
   "outputs": [],
   "source": []
  },
  {
   "cell_type": "code",
   "execution_count": null,
   "metadata": {},
   "outputs": [],
   "source": []
  },
  {
   "cell_type": "code",
   "execution_count": null,
   "metadata": {},
   "outputs": [],
   "source": []
  },
  {
   "cell_type": "code",
   "execution_count": null,
   "metadata": {},
   "outputs": [],
   "source": []
  },
  {
   "cell_type": "code",
   "execution_count": null,
   "metadata": {},
   "outputs": [],
   "source": []
  },
  {
   "cell_type": "code",
   "execution_count": null,
   "metadata": {},
   "outputs": [],
   "source": []
  },
  {
   "cell_type": "code",
   "execution_count": null,
   "metadata": {},
   "outputs": [],
   "source": []
  },
  {
   "cell_type": "code",
   "execution_count": null,
   "metadata": {},
   "outputs": [],
   "source": []
  },
  {
   "cell_type": "code",
   "execution_count": null,
   "metadata": {},
   "outputs": [],
   "source": []
  }
 ],
 "metadata": {
  "kernelspec": {
   "display_name": "Python 3",
   "language": "python",
   "name": "python3"
  },
  "language_info": {
   "codemirror_mode": {
    "name": "ipython",
    "version": 2
   },
   "file_extension": ".py",
   "mimetype": "text/x-python",
   "name": "python",
   "nbconvert_exporter": "python",
   "pygments_lexer": "ipython2",
   "version": "2.7.15rc1"
  }
 },
 "nbformat": 4,
 "nbformat_minor": 2
}
